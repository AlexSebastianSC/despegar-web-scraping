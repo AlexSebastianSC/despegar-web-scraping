{
 "cells": [
  {
   "cell_type": "markdown",
   "id": "81a7b41a-782c-4c0c-a3ff-844b3481f5fe",
   "metadata": {},
   "source": [
    "# Despegar\n",
    "\n",
    "**Autor**: Usuario<br/>\n",
    "**Codigo**: 1234<br/>\n",
    "**Actualización**: 02/03/2023<br/>"
   ]
  },
  {
   "cell_type": "markdown",
   "id": "de10a58c-7c2c-460c-b30d-5c31e23e2dae",
   "metadata": {},
   "source": [
    "## Importación de librerias"
   ]
  },
  {
   "cell_type": "code",
   "execution_count": null,
   "id": "7a6f3060",
   "metadata": {},
   "outputs": [],
   "source": [
    "import logging\n",
    "from datetime import datetime\n",
    "from time import time\n",
    "from bcrp.utilidades import obtener_logger\n",
    "from despegar.scraper import Despegar"
   ]
  },
  {
   "cell_type": "code",
   "execution_count": null,
   "id": "35a460db-4e3c-44c9-9217-64950d5ac0e7",
   "metadata": {},
   "outputs": [],
   "source": [
    "# Inicialización de logs\n",
    "logger = logging.getLogger('IAE170_2150_DespegarOnpremise')\n",
    "if not logger.hasHandlers():\n",
    "    logger = obtener_logger('IAE170_2150_DespegarOnpremise')"
   ]
  },
  {
   "cell_type": "markdown",
   "id": "9ec1f813-e2ff-4641-aebe-4113a82cb640",
   "metadata": {},
   "source": [
    "## Parámetros"
   ]
  },
  {
   "cell_type": "code",
   "execution_count": null,
   "id": "05fd610a-a895-4c9e-a0eb-8d7543daadad",
   "metadata": {},
   "outputs": [],
   "source": [
    "# Parametros\n",
    "# destinos = ['IQT','CUN']\n",
    "destinos = ['MAD', 'BCN', 'SCL', 'BUE', 'MIA', 'BOG', 'CTG', 'MEX', 'PUJ', 'CUN', 'CUZ', 'JUL', 'CJA', 'TBP', 'TRU', 'AQP', 'PEM', 'PIU', 'CIX', 'IQT']"
   ]
  },
  {
   "cell_type": "markdown",
   "id": "59920e9f-d988-444c-9057-0fdca61dc880",
   "metadata": {},
   "source": [
    "## Extracción de datos"
   ]
  },
  {
   "cell_type": "code",
   "execution_count": null,
   "id": "15ae3b72",
   "metadata": {
    "code_folding": [],
    "scrolled": true,
    "tags": []
   },
   "outputs": [],
   "source": [
    "inicio = time()\n",
    "scraper = Despegar(destinos)\n",
    "scraper.extraer_data()\n",
    "# Reintentar data perdida\n",
    "scraper.extraer_data_perdida()\n",
    "# Guardar archivo\n",
    "fecha = (datetime.now()).strftime('%Y-%m-%d')\n",
    "scraper.guardar_archivo(fecha)\n",
    "fin = time()\n",
    "print('Tiempo de ejecucion: ' + str(round((fin - inicio) / 3600, 2)))"
   ]
  }
 ],
 "metadata": {
  "hide_input": false,
  "kernelspec": {
   "display_name": "Python 3 (ipykernel)",
   "language": "python",
   "name": "python3"
  },
  "language_info": {
   "codemirror_mode": {
    "name": "ipython",
    "version": 3
   },
   "file_extension": ".py",
   "mimetype": "text/x-python",
   "name": "python",
   "nbconvert_exporter": "python",
   "pygments_lexer": "ipython3",
   "version": "3.9.2"
  },
  "toc": {
   "base_numbering": 1,
   "nav_menu": {},
   "number_sections": true,
   "sideBar": true,
   "skip_h1_title": false,
   "title_cell": "Table of Contents",
   "title_sidebar": "Contents",
   "toc_cell": false,
   "toc_position": {},
   "toc_section_display": true,
   "toc_window_display": false
  },
  "varInspector": {
   "cols": {
    "lenName": 16,
    "lenType": 16,
    "lenVar": 40
   },
   "kernels_config": {
    "python": {
     "delete_cmd_postfix": "",
     "delete_cmd_prefix": "del ",
     "library": "var_list.py",
     "varRefreshCmd": "print(var_dic_list())"
    },
    "r": {
     "delete_cmd_postfix": ") ",
     "delete_cmd_prefix": "rm(",
     "library": "var_list.r",
     "varRefreshCmd": "cat(var_dic_list()) "
    }
   },
   "types_to_exclude": [
    "module",
    "function",
    "builtin_function_or_method",
    "instance",
    "_Feature"
   ],
   "window_display": false
  }
 },
 "nbformat": 4,
 "nbformat_minor": 5
}
